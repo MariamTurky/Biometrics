{
  "cells": [
    {
      "cell_type": "code",
      "source": [
        "from google.colab import drive\n",
        "drive.mount('/content/drive/')"
      ],
      "metadata": {
        "colab": {
          "base_uri": "https://localhost:8080/"
        },
        "id": "S_Yl2vFGuVCj",
        "outputId": "421ccac8-1e9c-460d-dea3-87a19f593955"
      },
      "id": "S_Yl2vFGuVCj",
      "execution_count": null,
      "outputs": [
        {
          "output_type": "stream",
          "name": "stdout",
          "text": [
            "Mounted at /content/drive/\n"
          ]
        }
      ]
    },
    {
      "cell_type": "code",
      "execution_count": null,
      "id": "35063edd",
      "metadata": {
        "_cell_guid": "b1076dfc-b9ad-4769-8c92-a6c4dae69d19",
        "_uuid": "8f2839f25d086af736a60e9eeb907d3b93b6e0e5",
        "execution": {
          "iopub.execute_input": "2023-01-19T00:30:54.108502Z",
          "iopub.status.busy": "2023-01-19T00:30:54.104316Z",
          "iopub.status.idle": "2023-01-19T00:30:59.135781Z",
          "shell.execute_reply": "2023-01-19T00:30:59.134533Z"
        },
        "papermill": {
          "duration": 5.044478,
          "end_time": "2023-01-19T00:30:59.138587",
          "exception": false,
          "start_time": "2023-01-19T00:30:54.094109",
          "status": "completed"
        },
        "tags": [],
        "id": "35063edd"
      },
      "outputs": [],
      "source": [
        "import numpy as np\n",
        "import pandas as pd\n",
        "import seaborn as sns\n",
        "import tensorflow as tf\n",
        "\n",
        "import os\n",
        "import cv2\n",
        "\n",
        "import matplotlib.pyplot as plt\n"
      ]
    },
    {
      "cell_type": "code",
      "execution_count": null,
      "id": "fe8aa11e",
      "metadata": {
        "execution": {
          "iopub.execute_input": "2023-01-19T00:30:59.151136Z",
          "iopub.status.busy": "2023-01-19T00:30:59.150602Z",
          "iopub.status.idle": "2023-01-19T00:30:59.158330Z",
          "shell.execute_reply": "2023-01-19T00:30:59.157310Z"
        },
        "papermill": {
          "duration": 0.016411,
          "end_time": "2023-01-19T00:30:59.160809",
          "exception": false,
          "start_time": "2023-01-19T00:30:59.144398",
          "status": "completed"
        },
        "tags": [],
        "id": "fe8aa11e"
      },
      "outputs": [],
      "source": [
        "def extract_label(img_path,train = True):\n",
        "    filename, _ = os.path.splitext(os.path.basename(img_path))\n",
        "\n",
        "    subject_id, etc = filename.split('__')\n",
        "\n",
        "    if train:\n",
        "      gender, lr, finger, _, _ = etc.split('_')\n",
        "    else:\n",
        "      gender, lr, finger, _ = etc.split('_')\n",
        "\n",
        "    gender = 0 if gender == 'M' else 1\n",
        "    lr = 0 if lr == 'Left' else 1\n",
        "\n",
        "    if finger == 'thumb':\n",
        "      finger = 0\n",
        "    elif finger == 'index':\n",
        "      finger = 1\n",
        "    elif finger == 'middle':\n",
        "      finger = 2\n",
        "    elif finger == 'ring':\n",
        "      finger = 3\n",
        "    elif finger == 'little':\n",
        "      finger = 4\n",
        "    return np.array([finger], dtype=np.uint16)"
      ]
    },
    {
      "cell_type": "code",
      "execution_count": null,
      "id": "3c89abc1",
      "metadata": {
        "execution": {
          "iopub.execute_input": "2023-01-19T00:30:59.170828Z",
          "iopub.status.busy": "2023-01-19T00:30:59.170492Z",
          "iopub.status.idle": "2023-01-19T00:30:59.176777Z",
          "shell.execute_reply": "2023-01-19T00:30:59.175684Z"
        },
        "papermill": {
          "duration": 0.013965,
          "end_time": "2023-01-19T00:30:59.179148",
          "exception": false,
          "start_time": "2023-01-19T00:30:59.165183",
          "status": "completed"
        },
        "tags": [],
        "id": "3c89abc1"
      },
      "outputs": [],
      "source": [
        "img_size = 96\n",
        "\n",
        "\n",
        "def loading_data(path,boolean):\n",
        "    data = []\n",
        "    for img in os.listdir(path):\n",
        "            img_array = cv2.imread(os.path.join(path, img), cv2.IMREAD_GRAYSCALE)\n",
        "            img_resize = cv2.resize(img_array, (img_size, img_size))\n",
        "            label = extract_label(os.path.join(path, img),boolean)\n",
        "\n",
        "            data.append([label[0], img_resize ])\n",
        "    return data\n"
      ]
    },
    {
      "cell_type": "code",
      "execution_count": null,
      "id": "b00f8be2",
      "metadata": {
        "execution": {
          "iopub.execute_input": "2023-01-19T00:30:59.188933Z",
          "iopub.status.busy": "2023-01-19T00:30:59.188692Z",
          "iopub.status.idle": "2023-01-19T00:33:49.189597Z",
          "shell.execute_reply": "2023-01-19T00:33:49.188324Z"
        },
        "papermill": {
          "duration": 170.008728,
          "end_time": "2023-01-19T00:33:49.192109",
          "exception": false,
          "start_time": "2023-01-19T00:30:59.183381",
          "status": "completed"
        },
        "tags": [],
        "id": "b00f8be2"
      },
      "outputs": [],
      "source": [
        "Real_path = \"/content/drive/MyDrive/SOCOFing/Real\"\n",
        "Easy_path = \"/content/drive/MyDrive/SOCOFing/Altered/Altered-Easy\"\n",
        "Medium_path = \"/content/drive/MyDrive/SOCOFing/Altered/Altered-Medium\"\n",
        "Hard_path = \"/content/drive/MyDrive/SOCOFing/Altered/Altered-Hard\""
      ]
    },
    {
      "cell_type": "code",
      "source": [
        "Easy_data = loading_data(Easy_path,True)\n",
        "Medium_data = loading_data(Medium_path,True)\n",
        "Hard_data = loading_data(Hard_path, True)\n",
        "data = np.concatenate([Easy_data, Medium_data, Hard_data], axis=0)\n",
        "\n",
        "del Easy_data, Medium_data, Hard_data"
      ],
      "metadata": {
        "id": "G5mMTmj4z5vg",
        "colab": {
          "base_uri": "https://localhost:8080/"
        },
        "outputId": "38ece533-2b3e-452b-ee4e-664727f38e1a"
      },
      "id": "G5mMTmj4z5vg",
      "execution_count": null,
      "outputs": [
        {
          "output_type": "stream",
          "name": "stderr",
          "text": [
            "<__array_function__ internals>:180: VisibleDeprecationWarning: Creating an ndarray from ragged nested sequences (which is a list-or-tuple of lists-or-tuples-or ndarrays with different lengths or shapes) is deprecated. If you meant to do this, you must specify 'dtype=object' when creating the ndarray.\n"
          ]
        }
      ]
    },
    {
      "cell_type": "code",
      "source": [
        "import random\n",
        "random.shuffle(data)"
      ],
      "metadata": {
        "id": "8Ts-fXz70RKH"
      },
      "id": "8Ts-fXz70RKH",
      "execution_count": null,
      "outputs": []
    },
    {
      "cell_type": "code",
      "execution_count": null,
      "id": "a3eaa59f",
      "metadata": {
        "execution": {
          "iopub.execute_input": "2023-01-19T00:33:49.204143Z",
          "iopub.status.busy": "2023-01-19T00:33:49.203829Z",
          "iopub.status.idle": "2023-01-19T00:33:49.213966Z",
          "shell.execute_reply": "2023-01-19T00:33:49.212892Z"
        },
        "papermill": {
          "duration": 0.01836,
          "end_time": "2023-01-19T00:33:49.215929",
          "exception": false,
          "start_time": "2023-01-19T00:33:49.197569",
          "status": "completed"
        },
        "tags": [],
        "id": "a3eaa59f"
      },
      "outputs": [],
      "source": [
        "img, labels = [], []\n",
        "for label, feature in data:\n",
        "    labels.append(label)\n",
        "    img.append(feature)"
      ]
    },
    {
      "cell_type": "code",
      "source": [
        "import matplotlib.pyplot as plt\n",
        "# Count occurrences of each gender\n",
        "count1 = labels.count(0)\n",
        "count2 = labels.count(1)\n",
        "count3 = labels.count(2)\n",
        "count4 = labels.count(3)\n",
        "count5 = labels.count(4)\n",
        "# Plotting the bar graph\n",
        "plt.bar(['thumb','index','middle','ring','little'], [count1,count2, count3,count4,count5], color=['blue', 'red','blue', 'red','blue'])\n",
        "plt.xlabel('Gender')\n",
        "plt.ylabel('Count')\n",
        "plt.title('Distribution of Finger Name')\n",
        "plt.show()"
      ],
      "metadata": {
        "id": "Ccnom6m2o3WA"
      },
      "id": "Ccnom6m2o3WA",
      "execution_count": null,
      "outputs": []
    },
    {
      "cell_type": "code",
      "execution_count": null,
      "id": "d9ced7d7",
      "metadata": {
        "execution": {
          "iopub.execute_input": "2023-01-19T00:33:49.231159Z",
          "iopub.status.busy": "2023-01-19T00:33:49.229325Z",
          "iopub.status.idle": "2023-01-19T00:33:49.706969Z",
          "shell.execute_reply": "2023-01-19T00:33:49.705903Z"
        },
        "papermill": {
          "duration": 0.486814,
          "end_time": "2023-01-19T00:33:49.709679",
          "exception": false,
          "start_time": "2023-01-19T00:33:49.222865",
          "status": "completed"
        },
        "tags": [],
        "id": "d9ced7d7"
      },
      "outputs": [],
      "source": [
        "train_data = np.array(img).reshape(-1, img_size, img_size, 1)\n",
        "train_data = train_data / 255.0"
      ]
    },
    {
      "cell_type": "code",
      "execution_count": null,
      "id": "c01164d6",
      "metadata": {
        "execution": {
          "iopub.execute_input": "2023-01-19T00:33:49.721889Z",
          "iopub.status.busy": "2023-01-19T00:33:49.721564Z",
          "iopub.status.idle": "2023-01-19T00:33:50.269738Z",
          "shell.execute_reply": "2023-01-19T00:33:50.268754Z"
        },
        "papermill": {
          "duration": 0.556965,
          "end_time": "2023-01-19T00:33:50.272188",
          "exception": false,
          "start_time": "2023-01-19T00:33:49.715223",
          "status": "completed"
        },
        "tags": [],
        "id": "c01164d6"
      },
      "outputs": [],
      "source": [
        "from keras.utils import to_categorical\n",
        "train_labels = to_categorical(labels, num_classes = 5)"
      ]
    },
    {
      "cell_type": "code",
      "execution_count": null,
      "id": "241a4e0f",
      "metadata": {
        "execution": {
          "iopub.execute_input": "2023-01-19T00:33:50.284204Z",
          "iopub.status.busy": "2023-01-19T00:33:50.283902Z",
          "iopub.status.idle": "2023-01-19T00:33:50.289236Z",
          "shell.execute_reply": "2023-01-19T00:33:50.288222Z"
        },
        "papermill": {
          "duration": 0.013593,
          "end_time": "2023-01-19T00:33:50.291252",
          "exception": false,
          "start_time": "2023-01-19T00:33:50.277659",
          "status": "completed"
        },
        "tags": [],
        "id": "241a4e0f"
      },
      "outputs": [],
      "source": [
        "labels = np.array(labels)"
      ]
    },
    {
      "cell_type": "code",
      "execution_count": null,
      "id": "4d8025da",
      "metadata": {
        "execution": {
          "iopub.execute_input": "2023-01-19T00:33:50.576850Z",
          "iopub.status.busy": "2023-01-19T00:33:50.576497Z",
          "iopub.status.idle": "2023-01-19T00:33:53.799307Z",
          "shell.execute_reply": "2023-01-19T00:33:53.797331Z"
        },
        "papermill": {
          "duration": 3.232973,
          "end_time": "2023-01-19T00:33:53.801630",
          "exception": false,
          "start_time": "2023-01-19T00:33:50.568657",
          "status": "completed"
        },
        "tags": [],
        "colab": {
          "base_uri": "https://localhost:8080/"
        },
        "id": "4d8025da",
        "outputId": "2388b413-f9dd-4607-bb5e-d967e00c1e55"
      },
      "outputs": [
        {
          "output_type": "stream",
          "name": "stdout",
          "text": [
            "Model: \"sequential\"\n",
            "_________________________________________________________________\n",
            " Layer (type)                Output Shape              Param #   \n",
            "=================================================================\n",
            " conv2d (Conv2D)             (None, 96, 96, 32)        320       \n",
            "                                                                 \n",
            " max_pooling2d (MaxPooling2  (None, 48, 48, 32)        0         \n",
            " D)                                                              \n",
            "                                                                 \n",
            " conv2d_1 (Conv2D)           (None, 48, 48, 32)        9248      \n",
            "                                                                 \n",
            " max_pooling2d_1 (MaxPoolin  (None, 24, 24, 32)        0         \n",
            " g2D)                                                            \n",
            "                                                                 \n",
            " flatten (Flatten)           (None, 18432)             0         \n",
            "                                                                 \n",
            " dense (Dense)               (None, 128)               2359424   \n",
            "                                                                 \n",
            " dense_1 (Dense)             (None, 1)                 129       \n",
            "                                                                 \n",
            "=================================================================\n",
            "Total params: 2369121 (9.04 MB)\n",
            "Trainable params: 2369121 (9.04 MB)\n",
            "Non-trainable params: 0 (0.00 Byte)\n",
            "_________________________________________________________________\n"
          ]
        }
      ],
      "source": [
        "from tensorflow.keras import Sequential\n",
        "from tensorflow.keras.layers import Conv2D, MaxPooling2D, Dense, Flatten, BatchNormalization, Dropout\n",
        "from tensorflow.keras import layers\n",
        "from tensorflow.keras import optimizers\n",
        "\n",
        "model = Sequential([\n",
        "Conv2D(32, 3, padding='same', activation='relu',kernel_initializer='he_uniform', input_shape = [96, 96, 1]),\n",
        "MaxPooling2D(2),\n",
        "Conv2D(32, 3, padding='same', kernel_initializer='he_uniform', activation='relu'),\n",
        "MaxPooling2D(2),\n",
        "Flatten(),\n",
        "Dense(128, kernel_initializer='he_uniform',activation = 'relu'),\n",
        "Dense(1, activation = 'sigmoid'),\n",
        "])\n",
        "model.summary()\n",
        "\n",
        "\n",
        "model.compile(optimizer = optimizers.Adam(1e-3), loss = 'binary_crossentropy', metrics = ['accuracy'])\n",
        "early_stopping_cb = tf.keras.callbacks.EarlyStopping(monitor='val_loss', patience=10)\n"
      ]
    },
    {
      "cell_type": "code",
      "execution_count": null,
      "id": "91e82910",
      "metadata": {
        "execution": {
          "iopub.execute_input": "2023-01-19T00:33:53.816713Z",
          "iopub.status.busy": "2023-01-19T00:33:53.816083Z",
          "iopub.status.idle": "2023-01-19T00:33:53.824415Z",
          "shell.execute_reply": "2023-01-19T00:33:53.823573Z"
        },
        "papermill": {
          "duration": 0.018098,
          "end_time": "2023-01-19T00:33:53.826480",
          "exception": false,
          "start_time": "2023-01-19T00:33:53.808382",
          "status": "completed"
        },
        "tags": [],
        "colab": {
          "base_uri": "https://localhost:8080/"
        },
        "id": "91e82910",
        "outputId": "ca8f1beb-d949-4672-b88e-aab5d7d4f26d"
      },
      "outputs": [
        {
          "output_type": "execute_result",
          "data": {
            "text/plain": [
              "numpy.ndarray"
            ]
          },
          "metadata": {},
          "execution_count": 15
        }
      ],
      "source": [
        "type(labels)"
      ]
    },
    {
      "cell_type": "code",
      "execution_count": null,
      "id": "2fdd69c6",
      "metadata": {
        "execution": {
          "iopub.execute_input": "2023-01-19T00:33:53.842937Z",
          "iopub.status.busy": "2023-01-19T00:33:53.841085Z",
          "iopub.status.idle": "2023-01-19T00:34:45.423792Z",
          "shell.execute_reply": "2023-01-19T00:34:45.422728Z"
        },
        "papermill": {
          "duration": 51.593238,
          "end_time": "2023-01-19T00:34:45.426474",
          "exception": false,
          "start_time": "2023-01-19T00:33:53.833236",
          "status": "completed"
        },
        "tags": [],
        "colab": {
          "base_uri": "https://localhost:8080/"
        },
        "id": "2fdd69c6",
        "outputId": "4202e162-81ec-4c8f-ac2b-cb89e143e4f3"
      },
      "outputs": [
        {
          "output_type": "stream",
          "name": "stdout",
          "text": [
            "Epoch 1/30\n",
            "308/308 [==============================] - 469s 2s/step - loss: 0.6466 - accuracy: 0.7887 - val_loss: 0.4388 - val_accuracy: 0.7970\n",
            "Epoch 2/30\n",
            "308/308 [==============================] - 471s 2s/step - loss: 0.3730 - accuracy: 0.8199 - val_loss: 0.3537 - val_accuracy: 0.8329\n",
            "Epoch 3/30\n",
            "308/308 [==============================] - 475s 2s/step - loss: 0.2761 - accuracy: 0.8826 - val_loss: 0.2848 - val_accuracy: 0.8776\n",
            "Epoch 4/30\n",
            "308/308 [==============================] - 477s 2s/step - loss: 0.2011 - accuracy: 0.9379 - val_loss: 0.2282 - val_accuracy: 0.9215\n",
            "Epoch 5/30\n",
            "308/308 [==============================] - 480s 2s/step - loss: 0.1081 - accuracy: 0.9668 - val_loss: 0.1471 - val_accuracy: 0.9473\n",
            "Epoch 6/30\n",
            "308/308 [==============================] - 463s 1s/step - loss: 0.0514 - accuracy: 0.9859 - val_loss: 0.1129 - val_accuracy: 0.9612\n",
            "Epoch 7/30\n",
            "308/308 [==============================] - 472s 2s/step - loss: 0.0289 - accuracy: 0.9933 - val_loss: 0.1054 - val_accuracy: 0.9674\n",
            "Epoch 8/30\n",
            "308/308 [==============================] - 478s 2s/step - loss: 0.0171 - accuracy: 0.9964 - val_loss: 0.0953 - val_accuracy: 0.9715\n",
            "Epoch 9/30\n",
            "308/308 [==============================] - 488s 2s/step - loss: 0.0097 - accuracy: 0.9986 - val_loss: 0.1238 - val_accuracy: 0.9660\n",
            "Epoch 10/30\n",
            "308/308 [==============================] - 473s 2s/step - loss: 0.0076 - accuracy: 0.9990 - val_loss: 0.1149 - val_accuracy: 0.9661\n",
            "Epoch 11/30\n",
            "308/308 [==============================] - 466s 2s/step - loss: 0.0048 - accuracy: 0.9992 - val_loss: 0.0839 - val_accuracy: 0.9773\n",
            "Epoch 12/30\n",
            "308/308 [==============================] - 469s 2s/step - loss: 0.0030 - accuracy: 0.9994 - val_loss: 0.0872 - val_accuracy: 0.9774\n",
            "Epoch 13/30\n",
            "308/308 [==============================] - 469s 2s/step - loss: 0.0028 - accuracy: 0.9995 - val_loss: 0.1019 - val_accuracy: 0.9709\n",
            "Epoch 14/30\n",
            "308/308 [==============================] - 469s 2s/step - loss: 0.0216 - accuracy: 0.9925 - val_loss: 0.1318 - val_accuracy: 0.9653\n",
            "Epoch 15/30\n",
            "308/308 [==============================] - 462s 2s/step - loss: 0.0097 - accuracy: 0.9972 - val_loss: 0.1096 - val_accuracy: 0.9680\n",
            "Epoch 16/30\n",
            "308/308 [==============================] - 454s 1s/step - loss: 0.0043 - accuracy: 0.9992 - val_loss: 0.0903 - val_accuracy: 0.9788\n",
            "Epoch 17/30\n",
            "308/308 [==============================] - 469s 2s/step - loss: 0.0020 - accuracy: 0.9995 - val_loss: 0.0887 - val_accuracy: 0.9807\n",
            "Epoch 18/30\n",
            "308/308 [==============================] - 466s 2s/step - loss: 0.0023 - accuracy: 0.9996 - val_loss: 0.0977 - val_accuracy: 0.9797\n",
            "Epoch 19/30\n",
            "308/308 [==============================] - 469s 2s/step - loss: 0.0012 - accuracy: 0.9996 - val_loss: 0.0876 - val_accuracy: 0.9806\n",
            "Epoch 20/30\n",
            "308/308 [==============================] - 463s 2s/step - loss: 0.0014 - accuracy: 0.9996 - val_loss: 0.0881 - val_accuracy: 0.9804\n",
            "Epoch 21/30\n",
            "308/308 [==============================] - 456s 1s/step - loss: 0.0015 - accuracy: 0.9996 - val_loss: 0.0880 - val_accuracy: 0.9801\n"
          ]
        }
      ],
      "source": [
        "history = model.fit(train_data, labels, batch_size = 128, epochs = 30,\n",
        "          validation_split = 0.2, callbacks = [early_stopping_cb], verbose = 1)"
      ]
    },
    {
      "cell_type": "code",
      "source": [
        "import pandas as pd\n",
        "import matplotlib.pyplot as plt\n",
        "pd.DataFrame(history.history).plot(figsize = (8,5))\n",
        "plt.grid(True)\n",
        "plt.gca().set_ylim(0,1)"
      ],
      "metadata": {
        "colab": {
          "base_uri": "https://localhost:8080/",
          "height": 468
        },
        "id": "AhKxKoTs1gKC",
        "outputId": "e5b77eba-ae80-4ff1-abc0-3e53ae4054d2"
      },
      "id": "AhKxKoTs1gKC",
      "execution_count": null,
      "outputs": [
        {
          "output_type": "execute_result",
          "data": {
            "text/plain": [
              "(0.0, 1.0)"
            ]
          },
          "metadata": {},
          "execution_count": 17
        },
        {
          "output_type": "display_data",
          "data": {
            "text/plain": [
              "<Figure size 800x500 with 1 Axes>"
            ],
            "image/png": "[encoded data removed]"
          },
          "metadata": {}
        }
      ]
    },
    {
      "cell_type": "code",
      "execution_count": null,
      "id": "052b0ecc",
      "metadata": {
        "execution": {
          "iopub.execute_input": "2023-01-19T00:34:45.523187Z",
          "iopub.status.busy": "2023-01-19T00:34:45.522812Z",
          "iopub.status.idle": "2023-01-19T00:35:51.166002Z",
          "shell.execute_reply": "2023-01-19T00:35:51.162255Z"
        },
        "papermill": {
          "duration": 65.735792,
          "end_time": "2023-01-19T00:35:51.209380",
          "exception": false,
          "start_time": "2023-01-19T00:34:45.473588",
          "status": "completed"
        },
        "tags": [],
        "id": "052b0ecc"
      },
      "outputs": [],
      "source": [
        "test_data = loading_data(Real_path,False)\n",
        "random.shuffle(test_data)\n",
        "\n",
        "x_test,y_test= [], []\n",
        "for label, feature in test_data:\n",
        "    y_test.append(label)\n",
        "    x_test.append(feature)"
      ]
    },
    {
      "cell_type": "code",
      "execution_count": null,
      "id": "38bb42cb",
      "metadata": {
        "execution": {
          "iopub.execute_input": "2023-01-19T00:35:51.297608Z",
          "iopub.status.busy": "2023-01-19T00:35:51.297213Z",
          "iopub.status.idle": "2023-01-19T00:35:51.326207Z",
          "shell.execute_reply": "2023-01-19T00:35:51.325207Z"
        },
        "papermill": {
          "duration": 0.075498,
          "end_time": "2023-01-19T00:35:51.328621",
          "exception": false,
          "start_time": "2023-01-19T00:35:51.253123",
          "status": "completed"
        },
        "tags": [],
        "colab": {
          "base_uri": "https://localhost:8080/"
        },
        "id": "38bb42cb",
        "outputId": "9ef449b9-f3ce-42fd-88e3-cee8f4d03bdb"
      },
      "outputs": [
        {
          "output_type": "execute_result",
          "data": {
            "text/plain": [
              "numpy.ndarray"
            ]
          },
          "metadata": {},
          "execution_count": 16
        }
      ],
      "source": [
        "x_test = np.array(x_test).reshape(-1, img_size, img_size, 1)\n",
        "# x_test = x_test / 255.0\n",
        "y_test = np.array(y_test)\n",
        "type(y_test)"
      ]
    },
    {
      "cell_type": "code",
      "execution_count": null,
      "id": "a6a0b5dd",
      "metadata": {
        "execution": {
          "iopub.execute_input": "2023-01-19T00:35:51.510849Z",
          "iopub.status.busy": "2023-01-19T00:35:51.510523Z",
          "iopub.status.idle": "2023-01-19T00:35:52.374486Z",
          "shell.execute_reply": "2023-01-19T00:35:52.373432Z"
        },
        "papermill": {
          "duration": 0.910935,
          "end_time": "2023-01-19T00:35:52.376842",
          "exception": false,
          "start_time": "2023-01-19T00:35:51.465907",
          "status": "completed"
        },
        "tags": [],
        "colab": {
          "base_uri": "https://localhost:8080/"
        },
        "id": "a6a0b5dd",
        "outputId": "4c254c8c-f7e3-46ac-b90e-d6bfe7246be3"
      },
      "outputs": [
        {
          "output_type": "stream",
          "name": "stdout",
          "text": [
            "188/188 [==============================] - 18s 96ms/step - loss: 0.0416 - accuracy: 0.9940\n"
          ]
        },
        {
          "output_type": "execute_result",
          "data": {
            "text/plain": [
              "[0.04159923642873764, 0.9940000176429749]"
            ]
          },
          "metadata": {},
          "execution_count": 30
        }
      ],
      "source": [
        "model.evaluate(x_test,y_test)"
      ]
    },
    {
      "cell_type": "code",
      "execution_count": null,
      "id": "1ec055fd",
      "metadata": {
        "execution": {
          "iopub.execute_input": "2023-01-19T00:35:52.467039Z",
          "iopub.status.busy": "2023-01-19T00:35:52.466058Z",
          "iopub.status.idle": "2023-01-19T00:35:53.462815Z",
          "shell.execute_reply": "2023-01-19T00:35:53.461782Z"
        },
        "papermill": {
          "duration": 1.045207,
          "end_time": "2023-01-19T00:35:53.465761",
          "exception": false,
          "start_time": "2023-01-19T00:35:52.420554",
          "status": "completed"
        },
        "tags": [],
        "id": "1ec055fd"
      },
      "outputs": [],
      "source": [
        "from sklearn.metrics import confusion_matrix\n",
        "\n",
        "plt.figure(figsize=(15, 5))\n",
        "\n",
        "preds = model.predict(x_test)\n",
        "preds = (preds >= 0.5).astype(np.int32)\n",
        "cm = confusion_matrix(y_test, preds)\n",
        "df_cm = pd.DataFrame(cm, index=['thumb','index','middle','ring','little'], columns=['thumb','index','middle','ring','little'])\n",
        "plt.title(\"Confusion matrix for the model\\n\")\n",
        "sns.heatmap(df_cm, annot=True, fmt=\"d\", cmap=\"YlGnBu\")\n",
        "plt.ylabel(\"Predicted\")\n",
        "plt.xlabel(\"Actual\")\n"
      ]
    },
    {
      "cell_type": "code",
      "source": [
        "# Classification report\n",
        "from sklearn.metrics import classification_report\n",
        "print(classification_report(y_test, preds, target_names= labels))"
      ],
      "metadata": {
        "id": "i2R4CgLT-_sC"
      },
      "id": "i2R4CgLT-_sC",
      "execution_count": null,
      "outputs": []
    },
    {
      "cell_type": "code",
      "execution_count": null,
      "id": "aaceba2e",
      "metadata": {
        "execution": {
          "iopub.execute_input": "2023-01-19T00:35:53.606087Z",
          "iopub.status.busy": "2023-01-19T00:35:53.605555Z",
          "iopub.status.idle": "2023-01-19T00:35:53.711692Z",
          "shell.execute_reply": "2023-01-19T00:35:53.710385Z"
        },
        "papermill": {
          "duration": 0.178347,
          "end_time": "2023-01-19T00:35:53.714778",
          "exception": false,
          "start_time": "2023-01-19T00:35:53.536431",
          "status": "completed"
        },
        "tags": [],
        "colab": {
          "base_uri": "https://localhost:8080/"
        },
        "id": "aaceba2e",
        "outputId": "d484a013-1e95-43ba-971d-4214d816efa4"
      },
      "outputs": [
        {
          "output_type": "stream",
          "name": "stderr",
          "text": [
            "/usr/local/lib/python3.10/dist-packages/keras/src/engine/training.py:3079: UserWarning: You are saving your model as an HDF5 file via `model.save()`. This file format is considered legacy. We recommend using instead the native Keras format, e.g. `model.save('my_model.keras')`.\n",
            "  saving_api.save_model(\n"
          ]
        }
      ],
      "source": [
        "model.save('GenderFP2.h5')"
      ]
    },
    {
      "cell_type": "code",
      "execution_count": null,
      "id": "758b31fe",
      "metadata": {
        "execution": {
          "iopub.execute_input": "2023-01-19T00:35:53.811295Z",
          "iopub.status.busy": "2023-01-19T00:35:53.810913Z",
          "iopub.status.idle": "2023-01-19T00:35:54.972248Z",
          "shell.execute_reply": "2023-01-19T00:35:54.971522Z"
        },
        "papermill": {
          "duration": 1.20978,
          "end_time": "2023-01-19T00:35:54.974263",
          "exception": false,
          "start_time": "2023-01-19T00:35:53.764483",
          "status": "completed"
        },
        "tags": [],
        "id": "758b31fe"
      },
      "outputs": [],
      "source": [
        "for i in range(5):\n",
        "    print('True: ',y_test[i])\n",
        "    print('predicted: ',((model.predict(np.expand_dims(x_test[i],0))>0.5).astype(np.int32))[0])\n",
        "    print()\n",
        "    plt.imshow(x_test[i],'gray')\n",
        "    plt.show()"
      ]
    }
  ],
  "metadata": {
    "kernelspec": {
      "display_name": "Python 3",
      "name": "python3"
    },
    "language_info": {
      "codemirror_mode": {
        "name": "ipython",
        "version": 3
      },
      "file_extension": ".py",
      "mimetype": "text/x-python",
      "name": "python",
      "nbconvert_exporter": "python",
      "pygments_lexer": "ipython3",
      "version": "3.7.12"
    },
    "papermill": {
      "default_parameters": {},
      "duration": 312.394361,
      "end_time": "2023-01-19T00:35:58.811263",
      "environment_variables": {},
      "exception": null,
      "input_path": "__notebook__.ipynb",
      "output_path": "__notebook__.ipynb",
      "parameters": {},
      "start_time": "2023-01-19T00:30:46.416902",
      "version": "2.3.4"
    },
    "colab": {
      "provenance": [],
      "gpuType": "T4"
    },
    "accelerator": "GPU"
  },
  "nbformat": 4,
  "nbformat_minor": 5
}